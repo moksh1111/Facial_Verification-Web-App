{
 "cells": [
  {
   "cell_type": "markdown",
   "metadata": {
    "id": "Rb2mXO1-shWT"
   },
   "source": [
    "# 1. Setting up!"
   ]
  },
  {
   "cell_type": "markdown",
   "metadata": {
    "id": "PyfQrMMmIGU9"
   },
   "source": [
    "### 1.1 Install  and Import Dependencies"
   ]
  },
  {
   "cell_type": "code",
   "execution_count": 1,
   "metadata": {},
   "outputs": [],
   "source": [
    "# !pip install tensorflow==2.4.2 tensorflow-gpu==2.4.1 opencv-python matplotlib"
   ]
  },
  {
   "cell_type": "code",
   "execution_count": 2,
   "metadata": {
    "scrolled": true
   },
   "outputs": [],
   "source": [
    "# !pip install tensorflow"
   ]
  },
  {
   "cell_type": "code",
   "execution_count": 3,
   "metadata": {
    "id": "8XFySaaQIVum"
   },
   "outputs": [],
   "source": [
    "# Importing standard dependencies\n",
    "import cv2\n",
    "import os\n",
    "import random\n",
    "import numpy as np\n",
    "import matplotlib.pyplot as plt"
   ]
  },
  {
   "cell_type": "code",
   "execution_count": 4,
   "metadata": {
    "id": "59asFYj6JmAy"
   },
   "outputs": [],
   "source": [
    " # Import Tensorflow Deoendencies\n",
    " import tensorflow as tf\n",
    " from tensorflow.keras.models import Model\n",
    " from tensorflow.keras.layers import Conv2D, Layer, Dense, MaxPooling2D, Input, Flatten"
   ]
  },
  {
   "cell_type": "code",
   "execution_count": 5,
   "metadata": {},
   "outputs": [
    {
     "name": "stdout",
     "output_type": "stream",
     "text": [
      "Name: tensorflowNote: you may need to restart the kernel to use updated packages.\n",
      "\n",
      "Version: 2.13.0\n",
      "Summary: TensorFlow is an open source machine learning framework for everyone.\n",
      "Home-page: https://www.tensorflow.org/\n",
      "Author: Google Inc.\n",
      "Author-email: packages@tensorflow.org\n",
      "License: Apache 2.0\n",
      "Location: C:\\Users\\Utkarsh Sharma\\AppData\\Roaming\\Python\\Python311\\site-packages\n",
      "Requires: tensorflow-intel\n",
      "Required-by: \n"
     ]
    }
   ],
   "source": [
    "pip show tensorflow"
   ]
  },
  {
   "cell_type": "code",
   "execution_count": 6,
   "metadata": {},
   "outputs": [
    {
     "data": {
      "text/plain": [
       "[]"
      ]
     },
     "execution_count": 6,
     "metadata": {},
     "output_type": "execute_result"
    }
   ],
   "source": [
    "tf.config.list_physical_devices('GPU')"
   ]
  },
  {
   "cell_type": "code",
   "execution_count": 7,
   "metadata": {},
   "outputs": [
    {
     "name": "stdout",
     "output_type": "stream",
     "text": [
      "Num GPUs Available:  0\n"
     ]
    }
   ],
   "source": [
    "print(\"Num GPUs Available: \", len(tf.config.list_physical_devices('GPU')))"
   ]
  },
  {
   "cell_type": "markdown",
   "metadata": {
    "id": "vFuhHxKMLKAm"
   },
   "source": [
    "### 1.2 Set GPU Growth"
   ]
  },
  {
   "cell_type": "code",
   "execution_count": 8,
   "metadata": {
    "id": "bNaE8p7eMPTC"
   },
   "outputs": [],
   "source": [
    "# Avoid Out Of Memory errors by setting up GPU Memory Consumption Growth\n",
    "gpus = tf.config.experimental.list_physical_devices('GPU')\n",
    "for gpu in gpus:\n",
    "  tf.config.experimental.set_memory_growth(gpu, True)"
   ]
  },
  {
   "cell_type": "markdown",
   "metadata": {
    "id": "hScv_I7KMoTZ"
   },
   "source": [
    "### 1.3 Create Folder Structures"
   ]
  },
  {
   "cell_type": "code",
   "execution_count": 9,
   "metadata": {
    "id": "9B0NnGUTdUot"
   },
   "outputs": [],
   "source": [
    "# Setup Paths\n",
    "POS_PATH = os.path.join('data', 'positive') # Truly identify\n",
    "NEG_PATH = os.path.join('data', 'negative') # False identify\n",
    "ANC_PATH = os.path.join('data', 'anchor') # jiske against verification hoga"
   ]
  },
  {
   "cell_type": "code",
   "execution_count": 10,
   "metadata": {
    "colab": {
     "base_uri": "https://localhost:8080/",
     "height": 36
    },
    "id": "uIHzxOWpdm0a",
    "outputId": "c774ccad-6052-405c-c038-9a3daa95a249"
   },
   "outputs": [
    {
     "data": {
      "text/plain": [
       "'data\\\\positive'"
      ]
     },
     "execution_count": 10,
     "metadata": {},
     "output_type": "execute_result"
    }
   ],
   "source": [
    "POS_PATH"
   ]
  },
  {
   "cell_type": "code",
   "execution_count": 11,
   "metadata": {
    "colab": {
     "base_uri": "https://localhost:8080/",
     "height": 349
    },
    "id": "KuHaCCYRdoba",
    "outputId": "266ad913-d04b-4159-a623-2f9002a09b85"
   },
   "outputs": [],
   "source": [
    "# Make those directories\n",
    "# os.makedirs(POS_PATH)\n",
    "# os.makedirs(NEG_PATH)\n",
    "# os.makedirs(ANC_PATH)"
   ]
  },
  {
   "cell_type": "markdown",
   "metadata": {
    "id": "IGvE5qIvsxks"
   },
   "source": [
    "# 2. Collecting Data"
   ]
  },
  {
   "cell_type": "markdown",
   "metadata": {
    "id": "4nFyYXrfs4Or"
   },
   "source": [
    "### 2.1 Collecting images from https://vis-www.cs.umass.edu/Lfw/#download and moving to negative folder"
   ]
  },
  {
   "cell_type": "code",
   "execution_count": 12,
   "metadata": {
    "colab": {
     "base_uri": "https://localhost:8080/"
    },
    "id": "IsYoXsiIeEF4",
    "outputId": "fb71533f-bcd9-4dba-cb78-76b8ebba74c1"
   },
   "outputs": [],
   "source": [
    "# Uncompress the folder of wild files\n",
    "# !tar -xf lfw.tar"
   ]
  },
  {
   "cell_type": "code",
   "execution_count": 13,
   "metadata": {
    "id": "z45qQb4FrB6F"
   },
   "outputs": [],
   "source": [
    "# Getting all the images in the \"data/negative\" folder\n",
    "# for directory in os.listdir('lfw'):\n",
    "#   for file in os.listdir(os.path.join('lfw', directory)):\n",
    "#     EX_PATH = os.path.join('lfw', directory, file)\n",
    "#     NEW_PATH = os.path.join(NEG_PATH, file)\n",
    "#     os.replace(EX_PATH, NEW_PATH)"
   ]
  },
  {
   "cell_type": "markdown",
   "metadata": {
    "id": "xUIf8A6Kty5r"
   },
   "source": [
    "### 2.2 Collecting positive and anchor images using Open CV"
   ]
  },
  {
   "cell_type": "code",
   "execution_count": 14,
   "metadata": {},
   "outputs": [],
   "source": [
    "# Import uuid library to uniquely name our anchor and positive images\n",
    "import uuid # Universal unieue identifier"
   ]
  },
  {
   "cell_type": "code",
   "execution_count": 15,
   "metadata": {},
   "outputs": [
    {
     "data": {
      "text/plain": [
       "'data\\\\anchor\\\\ab8e19a1-50cb-11ee-bba5-3024a9ef12e7.jpg'"
      ]
     },
     "execution_count": 15,
     "metadata": {},
     "output_type": "execute_result"
    }
   ],
   "source": [
    "os.path.join(ANC_PATH, '{}.jpg'.format(uuid.uuid1()))"
   ]
  },
  {
   "cell_type": "code",
   "execution_count": 16,
   "metadata": {
    "id": "7DNUALpFvmGQ"
   },
   "outputs": [],
   "source": [
    "# Establishing a connection to a webcam\n",
    "cap = cv2.VideoCapture(0)\n",
    "while cap.isOpened():\n",
    "  # Taking a frame\n",
    "  ret, frame = cap.read()\n",
    "    \n",
    "  # Resizing the frame\n",
    "  frame = frame[120:120+250, 200:200+250, :]\n",
    "    \n",
    "  # Collecting anchor images\n",
    "  if cv2.waitKey(1) & 0XFF == ord('a'):\n",
    "    imgname = os.path.join(ANC_PATH, '{}.jpg'.format(uuid.uuid1())) # Create the unique path\n",
    "    cv2.imwrite(imgname, frame) # Write the anchor image\n",
    "    \n",
    "  # Collecting positive images\n",
    "  if cv2.waitKey(1) & 0XFF == ord('p'):\n",
    "    imgname = os.path.join(POS_PATH, '{}.jpg'.format(uuid.uuid1())) # Create the unique path\n",
    "    cv2.imwrite(imgname, frame) # Write the positive image\n",
    "\n",
    "  # Show the taken frame on screen\n",
    "  cv2.imshow('Image Collection', frame)\n",
    "\n",
    "  # Getting out of webcam / Closing the webcam on pressing 'q' on keyboard\n",
    "  if cv2.waitKey(1) & 0XFF == ord('q'):\n",
    "    break\n",
    "\n",
    "# Release the webcam\n",
    "cap.release()\n",
    "\n",
    "# Close the image show frame\n",
    "cv2.destroyAllWindows()"
   ]
  },
  {
   "cell_type": "markdown",
   "metadata": {},
   "source": [
    "### 2.2 Data Augmentation"
   ]
  },
  {
   "cell_type": "code",
   "execution_count": 17,
   "metadata": {},
   "outputs": [],
   "source": [
    "# Define function to augment images to add more positive and anchor images with some more flavours to get better accuracy\n",
    "def data_aug(img):\n",
    "    data = []\n",
    "    for i in range(9):\n",
    "        img = tf.image.stateless_random_brightness(img, max_delta=0.02, seed=(1,2))\n",
    "        img = tf.image.stateless_random_contrast(img, lower=0.6, upper=1, seed=(1,3))\n",
    "        # img = tf.image.stateless_random_crop(img, size=(20,20,3), seed=(1,2))\n",
    "        img = tf.image.stateless_random_flip_left_right(img, seed=(np.random.randint(100),np.random.randint(100)))\n",
    "        img = tf.image.stateless_random_jpeg_quality(img, min_jpeg_quality=90, max_jpeg_quality=100, seed=(np.random.randint(100),np.random.randint(100)))\n",
    "        img = tf.image.stateless_random_saturation(img, lower=0.9,upper=1, seed=(np.random.randint(100),np.random.randint(100)))\n",
    "            \n",
    "        data.append(img)\n",
    "    \n",
    "    return data"
   ]
  },
  {
   "cell_type": "code",
   "execution_count": 18,
   "metadata": {},
   "outputs": [],
   "source": [
    "# # Adding positive augmented images\n",
    "# for file_name in os.listdir(os.path.join(POS_PATH)):\n",
    "#     img_path = os.path.join(POS_PATH, file_name)\n",
    "#     img = cv2.imread(img_path)\n",
    "#     augmented_images = data_aug(img) \n",
    "    \n",
    "#     for image in augmented_images:\n",
    "#         cv2.imwrite(os.path.join(POS_PATH, '{}.jpg'.format(uuid.uuid1())), image.numpy())"
   ]
  },
  {
   "cell_type": "code",
   "execution_count": 19,
   "metadata": {},
   "outputs": [],
   "source": [
    "# # Adding anchor augmented images\n",
    "# for file_name in os.listdir(os.path.join(ANC_PATH)):\n",
    "#     img_path = os.path.join(ANC_PATH, file_name)\n",
    "#     img = cv2.imread(img_path)\n",
    "#     augmented_images = data_aug(img) \n",
    "    \n",
    "#     for image in augmented_images:\n",
    "#         cv2.imwrite(os.path.join(ANC_PATH, '{}.jpg'.format(uuid.uuid1())), image.numpy())"
   ]
  },
  {
   "cell_type": "markdown",
   "metadata": {
    "id": "MQDPTZ07xRn4"
   },
   "source": [
    "# 3. Load and PreProcess Images"
   ]
  },
  {
   "cell_type": "markdown",
   "metadata": {},
   "source": [
    "### 3.1 Get Image Directories"
   ]
  },
  {
   "cell_type": "code",
   "execution_count": 20,
   "metadata": {},
   "outputs": [],
   "source": [
    "anchor = tf.data.Dataset.list_files(ANC_PATH+'\\*.jpg').take(3000)\n",
    "positive = tf.data.Dataset.list_files(POS_PATH+'\\*.jpg').take(3000)\n",
    "negative = tf.data.Dataset.list_files(NEG_PATH+'\\*.jpg').take(3000)"
   ]
  },
  {
   "cell_type": "code",
   "execution_count": 21,
   "metadata": {},
   "outputs": [],
   "source": [
    "dir_test = anchor.as_numpy_iterator()"
   ]
  },
  {
   "cell_type": "code",
   "execution_count": 22,
   "metadata": {},
   "outputs": [
    {
     "data": {
      "text/plain": [
       "b'data\\\\anchor\\\\96cee7d5-508b-11ee-a5d3-3024a9ef12e7.jpg'"
      ]
     },
     "execution_count": 22,
     "metadata": {},
     "output_type": "execute_result"
    }
   ],
   "source": [
    "dir_test.next()"
   ]
  },
  {
   "cell_type": "markdown",
   "metadata": {},
   "source": [
    "### 3.2 PreProcessing the images"
   ]
  },
  {
   "cell_type": "code",
   "execution_count": 23,
   "metadata": {},
   "outputs": [],
   "source": [
    "def preprocess(file_path):\n",
    "    byte_img = tf.io.read_file(file_path) # Reading the image\n",
    "    img = tf.io.decode_jpeg(byte_img) # Decoding the image\n",
    "    img = tf.image.resize(img, (100, 100)) # Resizing the image\n",
    "    img = img/255.0 # Scaling the image to be between 0 and 1\n",
    "    return img"
   ]
  },
  {
   "cell_type": "code",
   "execution_count": 24,
   "metadata": {},
   "outputs": [],
   "source": [
    "img = preprocess('data\\\\anchor\\\\a9b45f17-474f-11ee-972a-3024a9ef12e7.jpg')"
   ]
  },
  {
   "cell_type": "code",
   "execution_count": 25,
   "metadata": {},
   "outputs": [
    {
     "data": {
      "text/plain": [
       "<matplotlib.image.AxesImage at 0x20a59ec2d90>"
      ]
     },
     "execution_count": 25,
     "metadata": {},
     "output_type": "execute_result"
    },
    {
     "data": {
      "image/png": "[encoded data removed]",
      "text/plain": [
       "<Figure size 640x480 with 1 Axes>"
      ]
     },
     "metadata": {},
     "output_type": "display_data"
    }
   ],
   "source": [
    "# img # To get numpy equivalent of the image\n",
    "plt.imshow(img)"
   ]
  },
  {
   "cell_type": "code",
   "execution_count": 26,
   "metadata": {},
   "outputs": [
    {
     "data": {
      "text/plain": [
       "1.0"
      ]
     },
     "execution_count": 26,
     "metadata": {},
     "output_type": "execute_result"
    }
   ],
   "source": [
    "img.numpy().max() # As it is scaled"
   ]
  },
  {
   "cell_type": "markdown",
   "metadata": {},
   "source": [
    "### 3.3 Create Labelled Dataset"
   ]
  },
  {
   "cell_type": "code",
   "execution_count": 27,
   "metadata": {},
   "outputs": [],
   "source": [
    "positives = tf.data.Dataset.zip(anchor, positive, tf.data.Dataset.from_tensor_slices(tf.ones(len(anchor))))\n",
    "negatives = tf.data.Dataset.zip(anchor, negative, tf.data.Dataset.from_tensor_slices(tf.zeros(len(anchor))))\n",
    "data = positives.concatenate(negatives)"
   ]
  },
  {
   "cell_type": "code",
   "execution_count": 28,
   "metadata": {},
   "outputs": [
    {
     "data": {
      "text/plain": [
       "tensorflow.python.data.ops.concatenate_op._ConcatenateDataset"
      ]
     },
     "execution_count": 28,
     "metadata": {},
     "output_type": "execute_result"
    }
   ],
   "source": [
    "type(data)"
   ]
  },
  {
   "cell_type": "code",
   "execution_count": 29,
   "metadata": {},
   "outputs": [],
   "source": [
    "samples = data.as_numpy_iterator()"
   ]
  },
  {
   "cell_type": "code",
   "execution_count": 30,
   "metadata": {},
   "outputs": [],
   "source": [
    "example = samples.next()"
   ]
  },
  {
   "cell_type": "code",
   "execution_count": 31,
   "metadata": {},
   "outputs": [
    {
     "data": {
      "text/plain": [
       "(b'data\\\\anchor\\\\7ea74b17-508b-11ee-84a3-3024a9ef12e7.jpg',\n",
       " b'data\\\\positive\\\\37099948-508b-11ee-bdd7-3024a9ef12e7.jpg',\n",
       " 1.0)"
      ]
     },
     "execution_count": 31,
     "metadata": {},
     "output_type": "execute_result"
    }
   ],
   "source": [
    "example"
   ]
  },
  {
   "cell_type": "markdown",
   "metadata": {},
   "source": [
    "### 3.4 Build Train and Test Split"
   ]
  },
  {
   "cell_type": "code",
   "execution_count": 32,
   "metadata": {},
   "outputs": [],
   "source": [
    "def preprocess_twin(input_img, validation_img, label):\n",
    "    return(preprocess(input_img), preprocess(validation_img), label)"
   ]
  },
  {
   "cell_type": "code",
   "execution_count": 33,
   "metadata": {},
   "outputs": [],
   "source": [
    "res = preprocess_twin(*example)"
   ]
  },
  {
   "cell_type": "code",
   "execution_count": 34,
   "metadata": {},
   "outputs": [
    {
     "data": {
      "text/plain": [
       "3"
      ]
     },
     "execution_count": 34,
     "metadata": {},
     "output_type": "execute_result"
    }
   ],
   "source": [
    "len(res)"
   ]
  },
  {
   "cell_type": "code",
   "execution_count": 35,
   "metadata": {},
   "outputs": [
    {
     "data": {
      "text/plain": [
       "<tf.Tensor: shape=(100, 100, 3), dtype=float32, numpy=\n",
       "array([[[0.7257353 , 0.74534315, 0.71789217],\n",
       "        [0.7343137 , 0.75784314, 0.71862745],\n",
       "        [0.7262255 , 0.7497549 , 0.7105392 ],\n",
       "        ...,\n",
       "        [0.6931372 , 0.7323529 , 0.6970588 ],\n",
       "        [0.68602943, 0.7252451 , 0.689951  ],\n",
       "        [0.69411767, 0.73333335, 0.69803923]],\n",
       "\n",
       "       [[0.7343137 , 0.75392157, 0.7264706 ],\n",
       "        [0.7384804 , 0.7620098 , 0.7227941 ],\n",
       "        [0.73112744, 0.75465685, 0.71544117],\n",
       "        ...,\n",
       "        [0.6931372 , 0.7323529 , 0.69509804],\n",
       "        [0.6894608 , 0.7286765 , 0.69142157],\n",
       "        [0.69215685, 0.73137254, 0.69411767]],\n",
       "\n",
       "       [[0.7441176 , 0.7637255 , 0.7362745 ],\n",
       "        [0.7355392 , 0.7590686 , 0.7198529 ],\n",
       "        [0.7377451 , 0.7612745 , 0.72205883],\n",
       "        ...,\n",
       "        [0.6968137 , 0.73014706, 0.6870098 ],\n",
       "        [0.6997549 , 0.73308825, 0.689951  ],\n",
       "        [0.7019608 , 0.7352941 , 0.69215685]],\n",
       "\n",
       "       ...,\n",
       "\n",
       "       [[0.6431373 , 0.65882355, 0.6039216 ],\n",
       "        [0.64485294, 0.65857846, 0.6036765 ],\n",
       "        [0.6492647 , 0.65710783, 0.6022059 ],\n",
       "        ...,\n",
       "        [0.6252451 , 0.6360294 , 0.59289217],\n",
       "        [0.62965685, 0.63161767, 0.59142154],\n",
       "        [0.6215686 , 0.6215686 , 0.5901961 ]],\n",
       "\n",
       "       [[0.6401961 , 0.65588236, 0.6009804 ],\n",
       "        [0.6433824 , 0.65710783, 0.6022059 ],\n",
       "        [0.6362745 , 0.64411765, 0.5892157 ],\n",
       "        ...,\n",
       "        [0.6252451 , 0.6360294 , 0.59289217],\n",
       "        [0.62647057, 0.6284314 , 0.5882353 ],\n",
       "        [0.6362745 , 0.6362745 , 0.60490197]],\n",
       "\n",
       "       [[0.64411765, 0.6598039 , 0.60490197],\n",
       "        [0.6392157 , 0.65294117, 0.5990196 ],\n",
       "        [0.63529414, 0.6431373 , 0.5892157 ],\n",
       "        ...,\n",
       "        [0.6215686 , 0.63235295, 0.5892157 ],\n",
       "        [0.6382353 , 0.6401961 , 0.6       ],\n",
       "        [0.6313726 , 0.6313726 , 0.6       ]]], dtype=float32)>"
      ]
     },
     "execution_count": 35,
     "metadata": {},
     "output_type": "execute_result"
    }
   ],
   "source": [
    "res[0] # preprocessed_image\n",
    "res[1] # Sample image"
   ]
  },
  {
   "cell_type": "code",
   "execution_count": 36,
   "metadata": {},
   "outputs": [
    {
     "data": {
      "text/plain": [
       "<matplotlib.image.AxesImage at 0x20a5d1f2d90>"
      ]
     },
     "execution_count": 36,
     "metadata": {},
     "output_type": "execute_result"
    },
    {
     "data": {
      "image/png": "[encoded data removed]",
      "text/plain": [
       "<Figure size 640x480 with 1 Axes>"
      ]
     },
     "metadata": {},
     "output_type": "display_data"
    }
   ],
   "source": [
    "plt.imshow(res[0])"
   ]
  },
  {
   "cell_type": "code",
   "execution_count": 37,
   "metadata": {},
   "outputs": [
    {
     "data": {
      "text/plain": [
       "<matplotlib.image.AxesImage at 0x20a5899ad90>"
      ]
     },
     "execution_count": 37,
     "metadata": {},
     "output_type": "execute_result"
    },
    {
     "data": {
      "image/png": "[encoded data removed]",
      "text/plain": [
       "<Figure size 640x480 with 1 Axes>"
      ]
     },
     "metadata": {},
     "output_type": "display_data"
    }
   ],
   "source": [
    "plt.imshow(res[1])"
   ]
  },
  {
   "cell_type": "code",
   "execution_count": 38,
   "metadata": {},
   "outputs": [],
   "source": [
    "# Build dataloader pipeline\n",
    "data = data.map(preprocess_twin)\n",
    "data = data.cache() # release cache along\n",
    "data = data.shuffle(buffer_size=10000)"
   ]
  },
  {
   "cell_type": "code",
   "execution_count": 39,
   "metadata": {},
   "outputs": [
    {
     "data": {
      "text/plain": [
       "tensorflow.python.data.ops.shuffle_op._ShuffleDataset"
      ]
     },
     "execution_count": 39,
     "metadata": {},
     "output_type": "execute_result"
    }
   ],
   "source": [
    "type(data)"
   ]
  },
  {
   "cell_type": "code",
   "execution_count": 40,
   "metadata": {},
   "outputs": [],
   "source": [
    "samples = data.as_numpy_iterator()"
   ]
  },
  {
   "cell_type": "code",
   "execution_count": 41,
   "metadata": {},
   "outputs": [],
   "source": [
    "samp = samples.next()"
   ]
  },
  {
   "cell_type": "code",
   "execution_count": 42,
   "metadata": {},
   "outputs": [
    {
     "data": {
      "text/plain": [
       "<matplotlib.image.AxesImage at 0x20a5f465990>"
      ]
     },
     "execution_count": 42,
     "metadata": {},
     "output_type": "execute_result"
    },
    {
     "data": {
      "image/png": "[encoded data removed]",
      "text/plain": [
       "<Figure size 640x480 with 1 Axes>"
      ]
     },
     "metadata": {},
     "output_type": "display_data"
    }
   ],
   "source": [
    "plt.imshow(samp[0])"
   ]
  },
  {
   "cell_type": "code",
   "execution_count": 43,
   "metadata": {},
   "outputs": [
    {
     "data": {
      "text/plain": [
       "<matplotlib.image.AxesImage at 0x20a5d253a50>"
      ]
     },
     "execution_count": 43,
     "metadata": {},
     "output_type": "execute_result"
    },
    {
     "data": {
      "image/png": "[encoded data removed]",
      "text/plain": [
       "<Figure size 640x480 with 1 Axes>"
      ]
     },
     "metadata": {},
     "output_type": "display_data"
    }
   ],
   "source": [
    "plt.imshow(samp[1])"
   ]
  },
  {
   "cell_type": "code",
   "execution_count": 44,
   "metadata": {},
   "outputs": [
    {
     "data": {
      "text/plain": [
       "1.0"
      ]
     },
     "execution_count": 44,
     "metadata": {},
     "output_type": "execute_result"
    }
   ],
   "source": [
    "samp[2]"
   ]
  },
  {
   "cell_type": "code",
   "execution_count": 45,
   "metadata": {},
   "outputs": [],
   "source": [
    "# Training partition\n",
    "train_data = data.take(round(len(data)*.7)) # Taking 70% of the data as training data \n",
    "train_data = train_data.batch(16) # Converting data into bacthes to make it able to prefetch\n",
    "train_data = train_data.prefetch(8) # Converting to prefetch dataset"
   ]
  },
  {
   "cell_type": "code",
   "execution_count": 46,
   "metadata": {},
   "outputs": [
    {
     "data": {
      "text/plain": [
       "<_PrefetchDataset element_spec=(TensorSpec(shape=(None, 100, 100, None), dtype=tf.float32, name=None), TensorSpec(shape=(None, 100, 100, None), dtype=tf.float32, name=None), TensorSpec(shape=(None,), dtype=tf.float32, name=None))>"
      ]
     },
     "execution_count": 46,
     "metadata": {},
     "output_type": "execute_result"
    }
   ],
   "source": [
    "train_data"
   ]
  },
  {
   "cell_type": "code",
   "execution_count": 47,
   "metadata": {},
   "outputs": [],
   "source": [
    "train_samples = train_data.as_numpy_iterator()"
   ]
  },
  {
   "cell_type": "code",
   "execution_count": 48,
   "metadata": {},
   "outputs": [],
   "source": [
    "train_sample = train_samples.next()"
   ]
  },
  {
   "cell_type": "code",
   "execution_count": 49,
   "metadata": {},
   "outputs": [
    {
     "data": {
      "text/plain": [
       "16"
      ]
     },
     "execution_count": 49,
     "metadata": {},
     "output_type": "execute_result"
    }
   ],
   "source": [
    "len(train_sample[0]) # batch size of 16"
   ]
  },
  {
   "cell_type": "code",
   "execution_count": 50,
   "metadata": {},
   "outputs": [],
   "source": [
    "# Testing Partitions\n",
    "test_data = data.skip(round(len(data)*.7)) # Skipping 70% of the data as it is training data \n",
    "test_data = test_data.take(round(len(data)*.3)) # Taking rest 30% of the data as testing images\n",
    "test_data = test_data.batch(16) # Converting data into bacthes to make it able to prefetch\n",
    "test_data = test_data.prefetch(8) # Converting to prefetch dataset"
   ]
  },
  {
   "cell_type": "code",
   "execution_count": 51,
   "metadata": {},
   "outputs": [],
   "source": [
    "test_samples = test_data.as_numpy_iterator()"
   ]
  },
  {
   "cell_type": "code",
   "execution_count": 52,
   "metadata": {},
   "outputs": [],
   "source": [
    "test_sample = test_samples.next()"
   ]
  },
  {
   "cell_type": "code",
   "execution_count": 53,
   "metadata": {},
   "outputs": [
    {
     "data": {
      "text/plain": [
       "16"
      ]
     },
     "execution_count": 53,
     "metadata": {},
     "output_type": "execute_result"
    }
   ],
   "source": [
    "len(test_sample[0]) # batch size of 16"
   ]
  },
  {
   "cell_type": "markdown",
   "metadata": {},
   "source": [
    "# 4. Model Engineering"
   ]
  },
  {
   "cell_type": "markdown",
   "metadata": {},
   "source": [
    "### 4.1 Build Embedding Layer"
   ]
  },
  {
   "cell_type": "code",
   "execution_count": 54,
   "metadata": {},
   "outputs": [],
   "source": [
    "inp = Input(shape = (100, 100, 3), name = 'input_image')"
   ]
  },
  {
   "cell_type": "code",
   "execution_count": 55,
   "metadata": {},
   "outputs": [
    {
     "data": {
      "text/plain": [
       "<KerasTensor: shape=(None, 100, 100, 3) dtype=float32 (created by layer 'input_image')>"
      ]
     },
     "execution_count": 55,
     "metadata": {},
     "output_type": "execute_result"
    }
   ],
   "source": [
    "inp"
   ]
  },
  {
   "cell_type": "code",
   "execution_count": 56,
   "metadata": {},
   "outputs": [],
   "source": [
    "c1 = Conv2D(64, (10, 10), activation='relu')(inp)"
   ]
  },
  {
   "cell_type": "code",
   "execution_count": 57,
   "metadata": {},
   "outputs": [],
   "source": [
    "m1 = MaxPooling2D(64, (2, 2), padding='same')(c1)"
   ]
  },
  {
   "cell_type": "code",
   "execution_count": 58,
   "metadata": {},
   "outputs": [],
   "source": [
    "c2 = Conv2D(128, (7, 7), activation='relu')(m1)\n",
    "m2 = MaxPooling2D(64, (2, 2), padding='same')(c2)"
   ]
  },
  {
   "cell_type": "code",
   "execution_count": 59,
   "metadata": {},
   "outputs": [],
   "source": [
    "# Third Block\n",
    "c3 = Conv2D(128, (4, 4), activation='relu')(m2)\n",
    "m3 = MaxPooling2D(64, (2, 2), padding='same')(c3)\n",
    "\n",
    "# Final Embedding Block\n",
    "c4 = Conv2D(256, (4, 4), activation='relu')(m3)\n",
    "f1 = Flatten()(c4)\n",
    "d1 = Dense(4096, activation='sigmoid')(f1)"
   ]
  },
  {
   "cell_type": "code",
   "execution_count": 60,
   "metadata": {},
   "outputs": [],
   "source": [
    "mod = Model(inputs = [inp], outputs = [d1], name = 'embedding')"
   ]
  },
  {
   "cell_type": "code",
   "execution_count": 61,
   "metadata": {},
   "outputs": [
    {
     "name": "stdout",
     "output_type": "stream",
     "text": [
      "Model: \"embedding\"\n",
      "_________________________________________________________________\n",
      " Layer (type)                Output Shape              Param #   \n",
      "=================================================================\n",
      " input_image (InputLayer)    [(None, 100, 100, 3)]     0         \n",
      "                                                                 \n",
      " conv2d (Conv2D)             (None, 91, 91, 64)        19264     \n",
      "                                                                 \n",
      " max_pooling2d (MaxPooling2  (None, 46, 46, 64)        0         \n",
      " D)                                                              \n",
      "                                                                 \n",
      " conv2d_1 (Conv2D)           (None, 40, 40, 128)       401536    \n",
      "                                                                 \n",
      " max_pooling2d_1 (MaxPoolin  (None, 20, 20, 128)       0         \n",
      " g2D)                                                            \n",
      "                                                                 \n",
      " conv2d_2 (Conv2D)           (None, 17, 17, 128)       262272    \n",
      "                                                                 \n",
      " max_pooling2d_2 (MaxPoolin  (None, 9, 9, 128)         0         \n",
      " g2D)                                                            \n",
      "                                                                 \n",
      " conv2d_3 (Conv2D)           (None, 6, 6, 256)         524544    \n",
      "                                                                 \n",
      " flatten (Flatten)           (None, 9216)              0         \n",
      "                                                                 \n",
      " dense (Dense)               (None, 4096)              37752832  \n",
      "                                                                 \n",
      "=================================================================\n",
      "Total params: 38960448 (148.62 MB)\n",
      "Trainable params: 38960448 (148.62 MB)\n",
      "Non-trainable params: 0 (0.00 Byte)\n",
      "_________________________________________________________________\n"
     ]
    }
   ],
   "source": [
    "mod.summary()"
   ]
  },
  {
   "cell_type": "code",
   "execution_count": 62,
   "metadata": {},
   "outputs": [],
   "source": [
    "def make_embedding():\n",
    "    inp = Input(shape = (100, 100, 3), name = 'input_image')\n",
    "    \n",
    "    # First Block\n",
    "    c1 = Conv2D(64, (10, 10), activation='relu')(inp)\n",
    "    m1 = MaxPooling2D(64, (2, 2), padding='same')(c1)\n",
    "    \n",
    "    # Second Block\n",
    "    c2 = Conv2D(128, (7, 7), activation='relu')(m1)\n",
    "    m2 = MaxPooling2D(64, (2, 2), padding='same')(c2)\n",
    "    \n",
    "    # Third Block\n",
    "    c3 = Conv2D(128, (4, 4), activation='relu')(m2)\n",
    "    m3 = MaxPooling2D(64, (2, 2), padding='same')(c3)\n",
    "    \n",
    "    # Final Embedding Block\n",
    "    c4 = Conv2D(256, (4, 4), activation='relu')(m3)\n",
    "    f1 = Flatten()(c4) # Flatening three dimensional data to single dimension\n",
    "    d1 = Dense(4096, activation='sigmoid')(f1)\n",
    "    \n",
    "    return Model(inputs = [inp], outputs = [d1], name = 'embedding')"
   ]
  },
  {
   "cell_type": "code",
   "execution_count": 63,
   "metadata": {},
   "outputs": [],
   "source": [
    "embedding = make_embedding()"
   ]
  },
  {
   "cell_type": "code",
   "execution_count": 64,
   "metadata": {},
   "outputs": [
    {
     "name": "stdout",
     "output_type": "stream",
     "text": [
      "Model: \"embedding\"\n",
      "_________________________________________________________________\n",
      " Layer (type)                Output Shape              Param #   \n",
      "=================================================================\n",
      " input_image (InputLayer)    [(None, 100, 100, 3)]     0         \n",
      "                                                                 \n",
      " conv2d_4 (Conv2D)           (None, 91, 91, 64)        19264     \n",
      "                                                                 \n",
      " max_pooling2d_3 (MaxPoolin  (None, 46, 46, 64)        0         \n",
      " g2D)                                                            \n",
      "                                                                 \n",
      " conv2d_5 (Conv2D)           (None, 40, 40, 128)       401536    \n",
      "                                                                 \n",
      " max_pooling2d_4 (MaxPoolin  (None, 20, 20, 128)       0         \n",
      " g2D)                                                            \n",
      "                                                                 \n",
      " conv2d_6 (Conv2D)           (None, 17, 17, 128)       262272    \n",
      "                                                                 \n",
      " max_pooling2d_5 (MaxPoolin  (None, 9, 9, 128)         0         \n",
      " g2D)                                                            \n",
      "                                                                 \n",
      " conv2d_7 (Conv2D)           (None, 6, 6, 256)         524544    \n",
      "                                                                 \n",
      " flatten_1 (Flatten)         (None, 9216)              0         \n",
      "                                                                 \n",
      " dense_1 (Dense)             (None, 4096)              37752832  \n",
      "                                                                 \n",
      "=================================================================\n",
      "Total params: 38960448 (148.62 MB)\n",
      "Trainable params: 38960448 (148.62 MB)\n",
      "Non-trainable params: 0 (0.00 Byte)\n",
      "_________________________________________________________________\n"
     ]
    }
   ],
   "source": [
    "embedding.summary()"
   ]
  },
  {
   "cell_type": "markdown",
   "metadata": {},
   "source": [
    "### 4.2 Build Distance Layer"
   ]
  },
  {
   "cell_type": "code",
   "execution_count": 65,
   "metadata": {},
   "outputs": [],
   "source": [
    "# Siamese Distance layer\n",
    "class L1Dist(Layer):\n",
    "    # Inheritance happens here\n",
    "    def __init__(self, **kwargs): # kwargs -  keywords and arguments identifiable\n",
    "        super().__init__()\n",
    "        \n",
    "    # Magic happens here - similarity calculation\n",
    "    def call(self, input_embedding, validation_embedding):\n",
    "        return tf.abs(input_embedding - validation_embedding)"
   ]
  },
  {
   "cell_type": "code",
   "execution_count": 66,
   "metadata": {},
   "outputs": [],
   "source": [
    "l1 = L1Dist()"
   ]
  },
  {
   "cell_type": "code",
   "execution_count": 67,
   "metadata": {},
   "outputs": [],
   "source": [
    "# l1(anchor_embedding, validation_embedding)"
   ]
  },
  {
   "cell_type": "markdown",
   "metadata": {},
   "source": [
    "### 4.3 Make Siamese Model"
   ]
  },
  {
   "cell_type": "code",
   "execution_count": 68,
   "metadata": {},
   "outputs": [],
   "source": [
    "input_image = Input(name='input_img', shape=(100, 100, 3))"
   ]
  },
  {
   "cell_type": "code",
   "execution_count": 69,
   "metadata": {},
   "outputs": [],
   "source": [
    "inp_embedding  = embedding(input_image)"
   ]
  },
  {
   "cell_type": "code",
   "execution_count": 70,
   "metadata": {},
   "outputs": [
    {
     "data": {
      "text/plain": [
       "<KerasTensor: shape=(None, 4096) dtype=float32 (created by layer 'embedding')>"
      ]
     },
     "execution_count": 70,
     "metadata": {},
     "output_type": "execute_result"
    }
   ],
   "source": [
    "inp_embedding"
   ]
  },
  {
   "cell_type": "code",
   "execution_count": 71,
   "metadata": {},
   "outputs": [],
   "source": [
    "validation_image = Input(name='validation_img', shape=(100, 100, 3))\n"
   ]
  },
  {
   "cell_type": "code",
   "execution_count": 72,
   "metadata": {},
   "outputs": [],
   "source": [
    "val_embedding = embedding(validation_image)"
   ]
  },
  {
   "cell_type": "code",
   "execution_count": 73,
   "metadata": {},
   "outputs": [
    {
     "data": {
      "text/plain": [
       "<KerasTensor: shape=(None, 4096) dtype=float32 (created by layer 'embedding')>"
      ]
     },
     "execution_count": 73,
     "metadata": {},
     "output_type": "execute_result"
    }
   ],
   "source": [
    "val_embedding"
   ]
  },
  {
   "cell_type": "code",
   "execution_count": 74,
   "metadata": {},
   "outputs": [],
   "source": [
    "siamese_layer = L1Dist()"
   ]
  },
  {
   "cell_type": "code",
   "execution_count": 75,
   "metadata": {},
   "outputs": [],
   "source": [
    "distances = siamese_layer(inp_embedding, val_embedding)"
   ]
  },
  {
   "cell_type": "code",
   "execution_count": 76,
   "metadata": {},
   "outputs": [
    {
     "data": {
      "text/plain": [
       "<KerasTensor: shape=(None, 4096) dtype=float32 (created by layer 'l1_dist_1')>"
      ]
     },
     "execution_count": 76,
     "metadata": {},
     "output_type": "execute_result"
    }
   ],
   "source": [
    "distances"
   ]
  },
  {
   "cell_type": "code",
   "execution_count": 77,
   "metadata": {},
   "outputs": [],
   "source": [
    "# Classification Layer\n",
    "classifier = Dense(1, activation='sigmoid')(distances)"
   ]
  },
  {
   "cell_type": "code",
   "execution_count": 78,
   "metadata": {},
   "outputs": [
    {
     "data": {
      "text/plain": [
       "<KerasTensor: shape=(None, 1) dtype=float32 (created by layer 'dense_2')>"
      ]
     },
     "execution_count": 78,
     "metadata": {},
     "output_type": "execute_result"
    }
   ],
   "source": [
    "classifier"
   ]
  },
  {
   "cell_type": "code",
   "execution_count": 79,
   "metadata": {},
   "outputs": [],
   "source": [
    "siamese_network = Model(inputs=[input_image, validation_image], outputs=classifier, name='SiameseNetwork')"
   ]
  },
  {
   "cell_type": "code",
   "execution_count": 80,
   "metadata": {},
   "outputs": [
    {
     "name": "stdout",
     "output_type": "stream",
     "text": [
      "Model: \"SiameseNetwork\"\n",
      "__________________________________________________________________________________________________\n",
      " Layer (type)                Output Shape                 Param #   Connected to                  \n",
      "==================================================================================================\n",
      " input_img (InputLayer)      [(None, 100, 100, 3)]        0         []                            \n",
      "                                                                                                  \n",
      " validation_img (InputLayer  [(None, 100, 100, 3)]        0         []                            \n",
      " )                                                                                                \n",
      "                                                                                                  \n",
      " embedding (Functional)      (None, 4096)                 3896044   ['input_img[0][0]',           \n",
      "                                                          8          'validation_img[0][0]']      \n",
      "                                                                                                  \n",
      " l1_dist_1 (L1Dist)          (None, 4096)                 0         ['embedding[0][0]',           \n",
      "                                                                     'embedding[1][0]']           \n",
      "                                                                                                  \n",
      " dense_2 (Dense)             (None, 1)                    4097      ['l1_dist_1[0][0]']           \n",
      "                                                                                                  \n",
      "==================================================================================================\n",
      "Total params: 38964545 (148.64 MB)\n",
      "Trainable params: 38964545 (148.64 MB)\n",
      "Non-trainable params: 0 (0.00 Byte)\n",
      "__________________________________________________________________________________________________\n"
     ]
    }
   ],
   "source": [
    "siamese_network.summary()"
   ]
  },
  {
   "cell_type": "code",
   "execution_count": 81,
   "metadata": {},
   "outputs": [],
   "source": [
    "def make_siamese_model():\n",
    "    # Handle inputs\n",
    "    \n",
    "    # Anchor image inputs in the network\n",
    "    input_image = Input(name='input_img', shape=(100, 100, 3))\n",
    "    \n",
    "    # Validation image inputs in the network\n",
    "    validation_image = Input(name='validation_img', shape=(100, 100, 3))\n",
    "    \n",
    "    # Combine Siamese Distance components\n",
    "    siamese_layer = L1Dist()\n",
    "    siamese_layer._name = 'distance'\n",
    "    distances = siamese_layer(embedding(input_image), embedding(validation_image))\n",
    "    \n",
    "    # Classification Layer\n",
    "    classifier = Dense(1, activation='sigmoid')(distances)\n",
    "    \n",
    "    return Model(inputs=[input_image, validation_image], outputs=classifier, name='SiameseNetwork')"
   ]
  },
  {
   "cell_type": "code",
   "execution_count": 82,
   "metadata": {},
   "outputs": [],
   "source": [
    "siamese_model = make_siamese_model()"
   ]
  },
  {
   "cell_type": "code",
   "execution_count": 83,
   "metadata": {},
   "outputs": [
    {
     "name": "stdout",
     "output_type": "stream",
     "text": [
      "Model: \"SiameseNetwork\"\n",
      "__________________________________________________________________________________________________\n",
      " Layer (type)                Output Shape                 Param #   Connected to                  \n",
      "==================================================================================================\n",
      " input_img (InputLayer)      [(None, 100, 100, 3)]        0         []                            \n",
      "                                                                                                  \n",
      " validation_img (InputLayer  [(None, 100, 100, 3)]        0         []                            \n",
      " )                                                                                                \n",
      "                                                                                                  \n",
      " embedding (Functional)      (None, 4096)                 3896044   ['input_img[0][0]',           \n",
      "                                                          8          'validation_img[0][0]']      \n",
      "                                                                                                  \n",
      " distance (L1Dist)           (None, 4096)                 0         ['embedding[2][0]',           \n",
      "                                                                     'embedding[3][0]']           \n",
      "                                                                                                  \n",
      " dense_3 (Dense)             (None, 1)                    4097      ['distance[0][0]']            \n",
      "                                                                                                  \n",
      "==================================================================================================\n",
      "Total params: 38964545 (148.64 MB)\n",
      "Trainable params: 38964545 (148.64 MB)\n",
      "Non-trainable params: 0 (0.00 Byte)\n",
      "__________________________________________________________________________________________________\n"
     ]
    }
   ],
   "source": [
    "siamese_model.summary()"
   ]
  },
  {
   "cell_type": "markdown",
   "metadata": {},
   "source": [
    "# 5. Training"
   ]
  },
  {
   "cell_type": "markdown",
   "metadata": {},
   "source": [
    "### 5.1 Setup Loss and Optimizer"
   ]
  },
  {
   "cell_type": "code",
   "execution_count": 84,
   "metadata": {},
   "outputs": [],
   "source": [
    "binary_cross_loss = tf.losses.BinaryCrossentropy()"
   ]
  },
  {
   "cell_type": "code",
   "execution_count": 85,
   "metadata": {},
   "outputs": [],
   "source": [
    "opt = tf.keras.optimizers.Adam(1e-4) # 0.0001 1e-7"
   ]
  },
  {
   "cell_type": "markdown",
   "metadata": {},
   "source": [
    "### 5.2 Establish Checkpoints"
   ]
  },
  {
   "cell_type": "code",
   "execution_count": 86,
   "metadata": {},
   "outputs": [],
   "source": [
    "checkpoint_dir = './training_checkpoints'\n",
    "checkpoint_prefix = os.path.join(checkpoint_dir, 'ckpt')\n",
    "checkpoint = tf.train.Checkpoint(opt=opt, siamese_model=siamese_model)"
   ]
  },
  {
   "cell_type": "markdown",
   "metadata": {},
   "source": [
    "### 5.3 Build Train Step Function"
   ]
  },
  {
   "cell_type": "code",
   "execution_count": 87,
   "metadata": {},
   "outputs": [],
   "source": [
    "test_batch = train_data.as_numpy_iterator()"
   ]
  },
  {
   "cell_type": "code",
   "execution_count": 88,
   "metadata": {},
   "outputs": [],
   "source": [
    "batch_1 = test_batch.next()"
   ]
  },
  {
   "cell_type": "code",
   "execution_count": 89,
   "metadata": {},
   "outputs": [],
   "source": [
    "x = batch_1[:2]"
   ]
  },
  {
   "cell_type": "code",
   "execution_count": 90,
   "metadata": {},
   "outputs": [
    {
     "data": {
      "text/plain": [
       "16"
      ]
     },
     "execution_count": 90,
     "metadata": {},
     "output_type": "execute_result"
    }
   ],
   "source": [
    "len(x[1])"
   ]
  },
  {
   "cell_type": "code",
   "execution_count": 91,
   "metadata": {},
   "outputs": [],
   "source": [
    "y = batch_1[2]"
   ]
  },
  {
   "cell_type": "code",
   "execution_count": 92,
   "metadata": {},
   "outputs": [
    {
     "data": {
      "text/plain": [
       "array([0., 1., 0., 1., 1., 0., 0., 1., 1., 1., 1., 1., 0., 1., 1., 1.],\n",
       "      dtype=float32)"
      ]
     },
     "execution_count": 92,
     "metadata": {},
     "output_type": "execute_result"
    }
   ],
   "source": [
    "y"
   ]
  },
  {
   "cell_type": "code",
   "execution_count": 93,
   "metadata": {},
   "outputs": [],
   "source": [
    "# If you describe a function outside of a compiled model you need to do this in this way using tf decorator (@tf.function)\n",
    "@tf.function\n",
    "def train_step(batch):\n",
    "    \n",
    "    # To capture each function at each step inside of our neural network\n",
    "    with tf.GradientTape() as tape:   \n",
    "        \n",
    "        # Get anchor and positive/negative image\n",
    "        X = batch[:2]\n",
    "        \n",
    "        # Get label\n",
    "        y = batch[2]\n",
    "        \n",
    "        # Forward pass\n",
    "        yhat = siamese_model(X, training=True)\n",
    "        \n",
    "        # Calculate loss\n",
    "        loss = binary_cross_loss(y, yhat)\n",
    "    print(loss)\n",
    "        \n",
    "    # Calculate gradients for every epoch on the training (trainable variables)\n",
    "    grad = tape.gradient(loss, siamese_model.trainable_variables)\n",
    "    \n",
    "    # Calculate updated weights and apply to the siamese model\n",
    "    opt.apply_gradients(zip(grad, siamese_model.trainable_variables))\n",
    "    \n",
    "    # Return loss\n",
    "    return loss"
   ]
  },
  {
   "cell_type": "markdown",
   "metadata": {},
   "source": [
    "### 5.4 Build Training Loops"
   ]
  },
  {
   "cell_type": "code",
   "execution_count": 94,
   "metadata": {},
   "outputs": [],
   "source": [
    "# Import metric calculations\n",
    "from tensorflow.keras.metrics import Precision, Recall"
   ]
  },
  {
   "cell_type": "code",
   "execution_count": 98,
   "metadata": {},
   "outputs": [],
   "source": [
    "def train(data, EPOCHS):\n",
    "    \n",
    "    # Loop through epochs\n",
    "    for epoch in range(1, EPOCHS+1):\n",
    "        print('\\n Epoch {}/{}'.format(epoch, EPOCHS))\n",
    "        progbar = tf.keras.utils.Progbar(len(data))\n",
    "        \n",
    "        # Creating a metric object\n",
    "        r = Recall()\n",
    "        p = Precision()\n",
    "        \n",
    "        # Loop through each batch\n",
    "        for idx, batch in enumerate(data):\n",
    "            \n",
    "            # Run train step here\n",
    "            loss = train_step(batch)\n",
    "            yhat = siamese_model.predict(batch[:2])\n",
    "            r.update_state(batch[2], yhat)\n",
    "            p.update_state(batch[2], yhat)\n",
    "            progbar.update(idx+1)\n",
    "        print(loss.numpy(), r.result().numpy(), p.result().numpy())\n",
    "        \n",
    "        # Save checkpoints\n",
    "        if epoch % 5 == 0: \n",
    "            checkpoint.save(file_prefix=checkpoint_prefix)"
   ]
  },
  {
   "cell_type": "markdown",
   "metadata": {},
   "source": [
    "### 5.4 Train the Model"
   ]
  },
  {
   "cell_type": "code",
   "execution_count": 99,
   "metadata": {},
   "outputs": [],
   "source": [
    "EPOCHS = 20"
   ]
  },
  {
   "cell_type": "code",
   "execution_count": null,
   "metadata": {},
   "outputs": [
    {
     "name": "stdout",
     "output_type": "stream",
     "text": [
      "\n",
      " Epoch 1/20\n",
      "1/1 [==============================] - 3s 3s/step\n",
      "1/1 [==============================] - 3s 3s/step:13:\n",
      "1/1 [==============================] - 3s 3s/step:13:\n",
      "1/1 [==============================] - 3s 3s/step:19:\n",
      "1/1 [==============================] - 3s 3s/step:23:\n",
      "1/1 [==============================] - 3s 3s/step:19:\n",
      "1/1 [==============================] - 3s 3s/step:18:\n",
      "1/1 [==============================] - 3s 3s/step:15:\n",
      "1/1 [==============================] - 3s 3s/step:15:\n",
      "1/1 [==============================] - 3s 3s/step:15:\n",
      "1/1 [==============================] - 3s 3s/step:14:\n",
      "1/1 [==============================] - 2s 2s/step:13:\n",
      "1/1 [==============================] - 3s 3s/step:13:\n",
      "1/1 [==============================] - 3s 3s/step:13:\n",
      "1/1 [==============================] - 3s 3s/step:12:\n",
      "1/1 [==============================] - 3s 3s/step:13:\n",
      "1/1 [==============================] - 2s 2s/step:12:\n",
      "1/1 [==============================] - 4s 4s/step:11:\n",
      "1/1 [==============================] - 4s 4s/step:11:\n",
      "1/1 [==============================] - 4s 4s/step:11:\n",
      "1/1 [==============================] - 3s 3s/step:12:\n",
      "1/1 [==============================] - 3s 3s/step:14:\n",
      "1/1 [==============================] - 3s 3s/step:16:\n",
      "1/1 [==============================] - 2s 2s/step:15:\n",
      "1/1 [==============================] - 3s 3s/step:14:\n",
      "1/1 [==============================] - 4s 4s/step:14:\n",
      "1/1 [==============================] - 3s 3s/step:13:\n",
      "1/1 [==============================] - 3s 3s/step:13:\n",
      "1/1 [==============================] - 4s 4s/step:13:\n",
      "1/1 [==============================] - 3s 3s/step:12:\n",
      "1/1 [==============================] - 2s 2s/step:12:\n",
      "1/1 [==============================] - 3s 3s/step:11:\n",
      "1/1 [==============================] - 2s 2s/step:10:\n",
      "1/1 [==============================] - 3s 3s/step:09:\n",
      "1/1 [==============================] - 4s 4s/step:09:\n",
      "1/1 [==============================] - 4s 4s/step:08:\n",
      "1/1 [==============================] - 3s 3s/step:08:\n",
      "1/1 [==============================] - 4s 4s/step:08:\n",
      "1/1 [==============================] - 3s 3s/step:07:\n",
      "1/1 [==============================] - 2s 2s/step:06:\n",
      "1/1 [==============================] - 3s 3s/step:06:\n",
      "1/1 [==============================] - 3s 3s/step:05:\n",
      "1/1 [==============================] - 3s 3s/step:05:\n",
      "1/1 [==============================] - 3s 3s/step:04:\n",
      "1/1 [==============================] - 3s 3s/step:03:\n",
      "1/1 [==============================] - 3s 3s/step:03:\n",
      "1/1 [==============================] - 2s 2s/step:02:\n",
      "1/1 [==============================] - 3s 3s/step:01:\n",
      "1/1 [==============================] - 3s 3s/step:00:\n",
      "1/1 [==============================] - 3s 3s/step:59:\n",
      "1/1 [==============================] - 3s 3s/step:59:\n",
      "1/1 [==============================] - 3s 3s/step:58:\n",
      "1/1 [==============================] - 3s 3s/step:58:\n",
      "1/1 [==============================] - 2s 2s/step:57:\n",
      "1/1 [==============================] - 3s 3s/step:56:\n",
      "1/1 [==============================] - 3s 3s/step:55:\n",
      "1/1 [==============================] - 2s 2s/step:55:\n",
      "1/1 [==============================] - 3s 3s/step:54:\n",
      "1/1 [==============================] - 3s 3s/step:53:\n",
      "1/1 [==============================] - 2s 2s/step:53:\n",
      "1/1 [==============================] - 2s 2s/step:52:\n",
      "1/1 [==============================] - 3s 3s/step:51:\n",
      "1/1 [==============================] - 3s 3s/step:51:\n",
      "1/1 [==============================] - 3s 3s/step:50:\n",
      "1/1 [==============================] - 3s 3s/step:49:\n",
      "1/1 [==============================] - 3s 3s/step:49:\n",
      "1/1 [==============================] - 3s 3s/step:48:\n",
      "1/1 [==============================] - 3s 3s/step:47:\n",
      "1/1 [==============================] - 3s 3s/step:47:\n",
      "1/1 [==============================] - 2s 2s/step:46:\n",
      "1/1 [==============================] - 3s 3s/step:45:\n",
      "1/1 [==============================] - 3s 3s/step:45:\n",
      "1/1 [==============================] - 3s 3s/step:45:\n",
      "1/1 [==============================] - 2s 2s/step:44:\n",
      "1/1 [==============================] - 2s 2s/step:43:\n",
      "1/1 [==============================] - 3s 3s/step:43:\n",
      "1/1 [==============================] - 3s 3s/step:42:\n",
      "1/1 [==============================] - 2s 2s/step:41:\n",
      "1/1 [==============================] - 2s 2s/step:41:\n",
      "1/1 [==============================] - 3s 3s/step:40:\n",
      "1/1 [==============================] - 3s 3s/step:40:\n",
      "1/1 [==============================] - 2s 2s/step:39:\n",
      "1/1 [==============================] - 2s 2s/step:38:\n",
      "1/1 [==============================] - 5s 5s/step:38:\n",
      "1/1 [==============================] - 6s 6s/step:37:\n",
      "1/1 [==============================] - 5s 5s/step:38:\n",
      "1/1 [==============================] - 6s 6s/step:38:\n",
      "1/1 [==============================] - 6s 6s/step:39:\n",
      "1/1 [==============================] - 5s 5s/step:40:\n",
      "1/1 [==============================] - 6s 6s/step:40:\n",
      "1/1 [==============================] - 5s 5s/step:40:\n",
      "1/1 [==============================] - 6s 6s/step:41:\n",
      "1/1 [==============================] - 5s 5s/step:41:\n",
      "1/1 [==============================] - 6s 6s/step:41:\n",
      "1/1 [==============================] - 6s 6s/step:42:\n",
      "1/1 [==============================] - 5s 5s/step:42:\n",
      "1/1 [==============================] - 6s 6s/step:42:\n",
      "1/1 [==============================] - 6s 6s/step:42:\n",
      "1/1 [==============================] - 5s 5s/step:43:\n",
      "1/1 [==============================] - 6s 6s/step:43:\n",
      "1/1 [==============================] - 5s 5s/step:43:\n",
      "1/1 [==============================] - 5s 5s/step:43:\n",
      "1/1 [==============================] - 5s 5s/step:43:\n",
      "1/1 [==============================] - 5s 5s/step:43:\n",
      "1/1 [==============================] - 5s 5s/step:43:\n",
      "1/1 [==============================] - 5s 5s/step:43:\n",
      "1/1 [==============================] - 5s 5s/step:43:\n",
      "1/1 [==============================] - 5s 5s/step:43:\n",
      "1/1 [==============================] - 6s 6s/step:43:\n",
      "1/1 [==============================] - 5s 5s/step:43:\n",
      "1/1 [==============================] - 6s 6s/step:43:\n",
      "1/1 [==============================] - 6s 6s/step:43:\n",
      "1/1 [==============================] - 5s 5s/step:43:\n",
      "1/1 [==============================] - 6s 6s/step:43:\n",
      "1/1 [==============================] - 5s 5s/step:42:\n",
      "1/1 [==============================] - 5s 5s/step:42:\n",
      "1/1 [==============================] - 5s 5s/step:42:\n",
      "1/1 [==============================] - 5s 5s/step:42:\n",
      "1/1 [==============================] - 6s 6s/step:42:\n",
      "1/1 [==============================] - 5s 5s/step:41:\n",
      "1/1 [==============================] - 6s 6s/step:41:\n",
      "1/1 [==============================] - 5s 5s/step:41:\n",
      "1/1 [==============================] - 5s 5s/step:41:\n",
      "1/1 [==============================] - 5s 5s/step:40:\n",
      "1/1 [==============================] - 5s 5s/step:40:\n",
      "1/1 [==============================] - 5s 5s/step:40:\n",
      "1/1 [==============================] - 5s 5s/step:39:\n",
      "1/1 [==============================] - 5s 5s/step:39:\n",
      "1/1 [==============================] - 5s 5s/step:38:\n",
      "1/1 [==============================] - 5s 5s/step:38:\n",
      "1/1 [==============================] - 5s 5s/step:37:\n",
      "1/1 [==============================] - 5s 5s/step:37:\n",
      "1/1 [==============================] - 5s 5s/step:36:\n",
      "1/1 [==============================] - 5s 5s/step:36:\n",
      "1/1 [==============================] - 5s 5s/step:35:\n",
      "1/1 [==============================] - 5s 5s/step:35:\n",
      "1/1 [==============================] - 5s 5s/step:34:\n",
      "1/1 [==============================] - 4s 4s/step:33:\n",
      "1/1 [==============================] - 5s 5s/step:33:\n",
      "1/1 [==============================] - 5s 5s/step:32:\n",
      "1/1 [==============================] - 5s 5s/step:32:\n",
      "1/1 [==============================] - 5s 5s/step:31:\n",
      "1/1 [==============================] - 5s 5s/step:31:\n",
      "1/1 [==============================] - 5s 5s/step:30:\n",
      "1/1 [==============================] - 5s 5s/step:29:\n",
      "1/1 [==============================] - 4s 4s/step:29:\n",
      "1/1 [==============================] - 5s 5s/step:28:\n",
      "1/1 [==============================] - 5s 5s/step:28:\n",
      "1/1 [==============================] - 5s 5s/step:27:\n",
      "1/1 [==============================] - 5s 5s/step:26:\n",
      "1/1 [==============================] - 5s 5s/step:26:\n",
      "151/263 [================>.............] - ETA: 1:25:40"
     ]
    }
   ],
   "source": [
    "train(train_data, EPOCHS)"
   ]
  },
  {
   "cell_type": "markdown",
   "metadata": {},
   "source": [
    "# 6. Evaluating Model"
   ]
  },
  {
   "cell_type": "markdown",
   "metadata": {},
   "source": [
    "### 6.1 Import Metrics"
   ]
  },
  {
   "cell_type": "code",
   "execution_count": null,
   "metadata": {},
   "outputs": [],
   "source": [
    "# Import metrics \n",
    "from tensorflow.keras.metrics import Precision, Recall"
   ]
  },
  {
   "cell_type": "markdown",
   "metadata": {},
   "source": [
    "### 6.2 Get a batch of data"
   ]
  },
  {
   "cell_type": "code",
   "execution_count": null,
   "metadata": {},
   "outputs": [],
   "source": [
    "# Get a batch of test data\n",
    "test_input, test_val, y_true = test_data.as_numpy_iterator().next()"
   ]
  },
  {
   "cell_type": "code",
   "execution_count": null,
   "metadata": {},
   "outputs": [],
   "source": [
    "test_var = test_data.as_numpy_iterator().next()"
   ]
  },
  {
   "cell_type": "code",
   "execution_count": null,
   "metadata": {},
   "outputs": [],
   "source": [
    "len(test_var[0])"
   ]
  },
  {
   "cell_type": "code",
   "execution_count": null,
   "metadata": {},
   "outputs": [],
   "source": [
    "# test_var[0]"
   ]
  },
  {
   "cell_type": "code",
   "execution_count": null,
   "metadata": {},
   "outputs": [],
   "source": [
    "# test_val[0]"
   ]
  },
  {
   "cell_type": "code",
   "execution_count": null,
   "metadata": {},
   "outputs": [],
   "source": [
    "test_var[2]"
   ]
  },
  {
   "cell_type": "markdown",
   "metadata": {},
   "source": [
    "### 6.3 Make Predictions"
   ]
  },
  {
   "cell_type": "code",
   "execution_count": null,
   "metadata": {},
   "outputs": [],
   "source": [
    "# Make Predictions\n",
    "y_hat = siamese_model.predict([test_input, test_val])\n",
    "y_hat"
   ]
  },
  {
   "cell_type": "code",
   "execution_count": null,
   "metadata": {},
   "outputs": [],
   "source": [
    "# Processing the results\n",
    "[1 if prediction > 0.5 else 0 for prediction in y_hat]"
   ]
  },
  {
   "cell_type": "code",
   "execution_count": null,
   "metadata": {},
   "outputs": [],
   "source": [
    "y_true"
   ]
  },
  {
   "cell_type": "markdown",
   "metadata": {},
   "source": [
    "### 6.4 Calculate Metrics"
   ]
  },
  {
   "cell_type": "code",
   "execution_count": null,
   "metadata": {},
   "outputs": [],
   "source": [
    "# Creating a metric object\n",
    "m = Recall()\n",
    "\n",
    "# Calculating the recall value\n",
    "m.update_state(y_true, y_hat)\n",
    "\n",
    "# Return recall\n",
    "m.result().numpy()"
   ]
  },
  {
   "cell_type": "code",
   "execution_count": null,
   "metadata": {},
   "outputs": [],
   "source": [
    "# Creating a metric object\n",
    "m = Precision()\n",
    "\n",
    "# Calculating the Precision value\n",
    "m.update_state(y_true, y_hat)\n",
    "\n",
    "# Return Precision\n",
    "m.result().numpy()"
   ]
  },
  {
   "cell_type": "markdown",
   "metadata": {},
   "source": [
    "### 6.5 Visualisation"
   ]
  },
  {
   "cell_type": "code",
   "execution_count": null,
   "metadata": {},
   "outputs": [],
   "source": [
    "# Set the plot\n",
    "plt.figure(figsize = (20, 10))\n",
    "\n",
    "# plot first image\n",
    "plt.subplot(1, 2, 1)\n",
    "plt.imshow(test_input[5])\n",
    "\n",
    "# PLot second image\n",
    "plt.subplot(1, 2, 2)\n",
    "plt.imshow(test_val[5])\n",
    "plt.show()"
   ]
  },
  {
   "cell_type": "markdown",
   "metadata": {},
   "source": [
    "# 7. Save Model"
   ]
  },
  {
   "cell_type": "code",
   "execution_count": null,
   "metadata": {},
   "outputs": [],
   "source": [
    "# Save Weights\n",
    "siamese_model.save('siamesemodel.h5')"
   ]
  },
  {
   "cell_type": "code",
   "execution_count": null,
   "metadata": {},
   "outputs": [],
   "source": [
    "# Reload Model\n",
    "model = tf.keras.models.load_model('siamesemodel.h5', custom_objects={\n",
    "    'L1Dist': L1Dist, 'BinaryCrossentropy': tf.losses.BinaryCrossentropy\n",
    "})"
   ]
  },
  {
   "cell_type": "code",
   "execution_count": null,
   "metadata": {},
   "outputs": [],
   "source": [
    "# Make predictions with reloaded Model\n",
    "model.predict([test_input, test_val])"
   ]
  },
  {
   "cell_type": "code",
   "execution_count": null,
   "metadata": {},
   "outputs": [],
   "source": [
    "# Looking at the reloaded model same as the model we made\n",
    "model.summary()"
   ]
  },
  {
   "cell_type": "markdown",
   "metadata": {},
   "source": [
    "# 8. Real Time Test"
   ]
  },
  {
   "cell_type": "code",
   "execution_count": null,
   "metadata": {},
   "outputs": [],
   "source": [
    "def verify(model, detection_threshold, verification_threshold):\n",
    "    # Build results array\n",
    "    results = []\n",
    "    for image in os.listdir(os.path.join('application_data', 'verification_images')):\n",
    "        input_img = preprocess(os.path.join('application_data', 'input_image', 'input_image.jpg'))\n",
    "        validation_img = preprocess(os.path.join('application_data', 'verification_images', image))\n",
    "    \n",
    "    # Make predictions and store in results array\n",
    "    result = model.predict(list(np.expand_dims([input_img, validation_img], axis=1)))\n",
    "    results.append(result)\n",
    "    \n",
    "    # Detection Threshold : Criteria above which a prediction is considered positive\n",
    "    detection = np.sum(np.array(results) > detection_threshold)\n",
    "    \n",
    "    # Verification Threshold : Proportion of images verified as match out of verification_images(50)\n",
    "    verification = detection/len(os.listdir(os.path.join('application_data', 'verification_images')))\n",
    "    verified = verification > verification_threshold\n",
    "    \n",
    "    return results, verified"
   ]
  },
  {
   "cell_type": "markdown",
   "metadata": {},
   "source": [
    "### 8.2 OpenCV Real Time verification"
   ]
  },
  {
   "cell_type": "code",
   "execution_count": null,
   "metadata": {},
   "outputs": [],
   "source": [
    "# cap = cv2.VideoCapture(0)\n",
    "# while cap.isOpened():\n",
    "#     ret, frame = cap.read()\n",
    "#     frame = frame[120:120+250, 200:200+250, :]\n",
    "    \n",
    "#     cv2.imshow('Verification', frame)\n",
    "    \n",
    "#     # Verification Trigger\n",
    "#     if cv2.waitKey(10) & 0xFF == ORD('v'):\n",
    "#         # Save input image to application_data/input_image folder\n",
    "#         cv2.imwrite(os.path.join('application_data', 'input_image', 'input_image.jpg'), frame)\n",
    "        \n",
    "#         # Run verification\n",
    "#         results, verified = verify(model, 0.9, 0.7)\n",
    "#         print(verified)\n",
    "        \n",
    "#     # Quitting the Open CV\n",
    "#     if cv2.waitKey(10) & 0xFF == ORD('q'):\n",
    "#         break\n",
    "\n",
    "# cap.release()\n",
    "# cv2.destroyAllWindows"
   ]
  },
  {
   "cell_type": "code",
   "execution_count": null,
   "metadata": {},
   "outputs": [],
   "source": [
    "# results  "
   ]
  },
  {
   "cell_type": "code",
   "execution_count": null,
   "metadata": {},
   "outputs": [],
   "source": [
    "# np.sum(np.squeeze(results) > 0.7)"
   ]
  },
  {
   "cell_type": "markdown",
   "metadata": {},
   "source": [
    "# HEHEHEHE"
   ]
  }
 ],
 "metadata": {
  "colab": {
   "provenance": []
  },
  "kernelspec": {
   "display_name": "Python 3 (ipykernel)",
   "language": "python",
   "name": "python3"
  },
  "language_info": {
   "codemirror_mode": {
    "name": "ipython",
    "version": 3
   },
   "file_extension": ".py",
   "mimetype": "text/x-python",
   "name": "python",
   "nbconvert_exporter": "python",
   "pygments_lexer": "ipython3",
   "version": "3.11.4"
  }
 },
 "nbformat": 4,
 "nbformat_minor": 1
}
